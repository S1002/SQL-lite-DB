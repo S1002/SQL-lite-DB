{
 "cells": [
  {
   "cell_type": "code",
   "execution_count": 1,
   "metadata": {},
   "outputs": [],
   "source": [
    "import sqlite3"
   ]
  },
  {
   "cell_type": "code",
   "execution_count": 2,
   "metadata": {},
   "outputs": [],
   "source": [
    "conn = sqlite3.connect('company.db')"
   ]
  },
  {
   "cell_type": "code",
   "execution_count": 4,
   "metadata": {},
   "outputs": [],
   "source": [
    "c = conn.cursor()\n",
    "# c.execute(\"\"\"CREATE TABLE company_details(\n",
    "#               company_url VARCHAR(5000),\n",
    "#               year int\n",
    "             \n",
    "#         )\"\"\")\n",
    "conn.commit()\n",
    "# conn.close()\n",
    "# c.execute(\"drop table company_details\")"
   ]
  },
  {
   "cell_type": "code",
   "execution_count": 5,
   "metadata": {},
   "outputs": [],
   "source": [
    "import pandas as pd\n",
    "df = pd.read_csv(r'E:\\pdf_details.csv')"
   ]
  },
  {
   "cell_type": "code",
   "execution_count": 6,
   "metadata": {},
   "outputs": [
    {
     "data": {
      "text/html": [
       "<div>\n",
       "<style scoped>\n",
       "    .dataframe tbody tr th:only-of-type {\n",
       "        vertical-align: middle;\n",
       "    }\n",
       "\n",
       "    .dataframe tbody tr th {\n",
       "        vertical-align: top;\n",
       "    }\n",
       "\n",
       "    .dataframe thead th {\n",
       "        text-align: right;\n",
       "    }\n",
       "</style>\n",
       "<table border=\"1\" class=\"dataframe\">\n",
       "  <thead>\n",
       "    <tr style=\"text-align: right;\">\n",
       "      <th></th>\n",
       "      <th>company_url</th>\n",
       "      <th>latest_year_of_pdf</th>\n",
       "    </tr>\n",
       "  </thead>\n",
       "  <tbody>\n",
       "    <tr>\n",
       "      <th>0</th>\n",
       "      <td>http://www.adidas-group.com/en/investors/corpo...</td>\n",
       "      <td>2019</td>\n",
       "    </tr>\n",
       "    <tr>\n",
       "      <th>1</th>\n",
       "      <td>https://www.allianz.com/en/about_us/management...</td>\n",
       "      <td>2019</td>\n",
       "    </tr>\n",
       "    <tr>\n",
       "      <th>2</th>\n",
       "      <td>https://www.basf.com/global/en/investors/basf-...</td>\n",
       "      <td>2019</td>\n",
       "    </tr>\n",
       "    <tr>\n",
       "      <th>3</th>\n",
       "      <td>http://www.bayer.com/en/Corporate-Governance.aspx</td>\n",
       "      <td>2019</td>\n",
       "    </tr>\n",
       "    <tr>\n",
       "      <th>4</th>\n",
       "      <td>https://www.bmwgroup.com/en/company/company-po...</td>\n",
       "      <td>2019</td>\n",
       "    </tr>\n",
       "    <tr>\n",
       "      <th>5</th>\n",
       "      <td>https://www.continental-corporation.com/en/com...</td>\n",
       "      <td>2019</td>\n",
       "    </tr>\n",
       "    <tr>\n",
       "      <th>6</th>\n",
       "      <td>https://www.covestro.com/en/company/management...</td>\n",
       "      <td>2019</td>\n",
       "    </tr>\n",
       "    <tr>\n",
       "      <th>7</th>\n",
       "      <td>https://www.daimler.com/company/corporate-gove...</td>\n",
       "      <td>2019</td>\n",
       "    </tr>\n",
       "    <tr>\n",
       "      <th>8</th>\n",
       "      <td>https://ir.deliveryhero.com/websites/delivery/...</td>\n",
       "      <td>2019</td>\n",
       "    </tr>\n",
       "    <tr>\n",
       "      <th>9</th>\n",
       "      <td>https://www.db.com/ir/en/documents.htm</td>\n",
       "      <td>2019</td>\n",
       "    </tr>\n",
       "    <tr>\n",
       "      <th>10</th>\n",
       "      <td>http://deutsche-boerse.com/dbg/dispatch/en/kir...</td>\n",
       "      <td>2019</td>\n",
       "    </tr>\n",
       "  </tbody>\n",
       "</table>\n",
       "</div>"
      ],
      "text/plain": [
       "                                          company_url  latest_year_of_pdf\n",
       "0   http://www.adidas-group.com/en/investors/corpo...                2019\n",
       "1   https://www.allianz.com/en/about_us/management...                2019\n",
       "2   https://www.basf.com/global/en/investors/basf-...                2019\n",
       "3   http://www.bayer.com/en/Corporate-Governance.aspx                2019\n",
       "4   https://www.bmwgroup.com/en/company/company-po...                2019\n",
       "5   https://www.continental-corporation.com/en/com...                2019\n",
       "6   https://www.covestro.com/en/company/management...                2019\n",
       "7   https://www.daimler.com/company/corporate-gove...                2019\n",
       "8   https://ir.deliveryhero.com/websites/delivery/...                2019\n",
       "9              https://www.db.com/ir/en/documents.htm                2019\n",
       "10  http://deutsche-boerse.com/dbg/dispatch/en/kir...                2019"
      ]
     },
     "execution_count": 6,
     "metadata": {},
     "output_type": "execute_result"
    }
   ],
   "source": [
    "df"
   ]
  },
  {
   "cell_type": "code",
   "execution_count": 24,
   "metadata": {},
   "outputs": [],
   "source": [
    "df.to_sql('company_details', conn, if_exists='replace', index = False)"
   ]
  },
  {
   "cell_type": "code",
   "execution_count": 25,
   "metadata": {},
   "outputs": [
    {
     "data": {
      "text/html": [
       "<div>\n",
       "<style scoped>\n",
       "    .dataframe tbody tr th:only-of-type {\n",
       "        vertical-align: middle;\n",
       "    }\n",
       "\n",
       "    .dataframe tbody tr th {\n",
       "        vertical-align: top;\n",
       "    }\n",
       "\n",
       "    .dataframe thead th {\n",
       "        text-align: right;\n",
       "    }\n",
       "</style>\n",
       "<table border=\"1\" class=\"dataframe\">\n",
       "  <thead>\n",
       "    <tr style=\"text-align: right;\">\n",
       "      <th></th>\n",
       "      <th>company_url</th>\n",
       "      <th>latest_year_of_pdf</th>\n",
       "    </tr>\n",
       "  </thead>\n",
       "  <tbody>\n",
       "    <tr>\n",
       "      <th>0</th>\n",
       "      <td>http://www.adidas-group.com/en/investors/corpo...</td>\n",
       "      <td>2019</td>\n",
       "    </tr>\n",
       "    <tr>\n",
       "      <th>1</th>\n",
       "      <td>https://www.allianz.com/en/about_us/management...</td>\n",
       "      <td>2020</td>\n",
       "    </tr>\n",
       "    <tr>\n",
       "      <th>2</th>\n",
       "      <td>https://www.basf.com/global/en/investors/basf-...</td>\n",
       "      <td>2020</td>\n",
       "    </tr>\n",
       "    <tr>\n",
       "      <th>3</th>\n",
       "      <td>http://www.bayer.com/en/Corporate-Governance.aspx</td>\n",
       "      <td>2019</td>\n",
       "    </tr>\n",
       "    <tr>\n",
       "      <th>4</th>\n",
       "      <td>https://www.bmwgroup.com/en/company/company-po...</td>\n",
       "      <td>2019</td>\n",
       "    </tr>\n",
       "    <tr>\n",
       "      <th>5</th>\n",
       "      <td>https://www.continental-corporation.com/en/com...</td>\n",
       "      <td>2019</td>\n",
       "    </tr>\n",
       "    <tr>\n",
       "      <th>6</th>\n",
       "      <td>https://www.covestro.com/en/company/management...</td>\n",
       "      <td>2020</td>\n",
       "    </tr>\n",
       "    <tr>\n",
       "      <th>7</th>\n",
       "      <td>https://www.daimler.com/company/corporate-gove...</td>\n",
       "      <td>2020</td>\n",
       "    </tr>\n",
       "    <tr>\n",
       "      <th>8</th>\n",
       "      <td>https://ir.deliveryhero.com/websites/delivery/...</td>\n",
       "      <td>2020</td>\n",
       "    </tr>\n",
       "    <tr>\n",
       "      <th>9</th>\n",
       "      <td>https://www.db.com/ir/en/documents.htm</td>\n",
       "      <td>2020</td>\n",
       "    </tr>\n",
       "    <tr>\n",
       "      <th>10</th>\n",
       "      <td>http://deutsche-boerse.com/dbg/dispatch/en/kir...</td>\n",
       "      <td>2019</td>\n",
       "    </tr>\n",
       "  </tbody>\n",
       "</table>\n",
       "</div>"
      ],
      "text/plain": [
       "                                          company_url  latest_year_of_pdf\n",
       "0   http://www.adidas-group.com/en/investors/corpo...                2019\n",
       "1   https://www.allianz.com/en/about_us/management...                2020\n",
       "2   https://www.basf.com/global/en/investors/basf-...                2020\n",
       "3   http://www.bayer.com/en/Corporate-Governance.aspx                2019\n",
       "4   https://www.bmwgroup.com/en/company/company-po...                2019\n",
       "5   https://www.continental-corporation.com/en/com...                2019\n",
       "6   https://www.covestro.com/en/company/management...                2020\n",
       "7   https://www.daimler.com/company/corporate-gove...                2020\n",
       "8   https://ir.deliveryhero.com/websites/delivery/...                2020\n",
       "9              https://www.db.com/ir/en/documents.htm                2020\n",
       "10  http://deutsche-boerse.com/dbg/dispatch/en/kir...                2019"
      ]
     },
     "execution_count": 25,
     "metadata": {},
     "output_type": "execute_result"
    }
   ],
   "source": [
    "pd.read_sql(\"select * from company_details\", conn)"
   ]
  },
  {
   "cell_type": "code",
   "execution_count": 16,
   "metadata": {},
   "outputs": [],
   "source": [
    "import requests\n",
    "import re\n",
    "from bs4 import BeautifulSoup\n",
    "import os\n",
    "from urllib.parse import urljoin\n",
    "\n",
    "url = 'https://www.dcgk.de/en/declarations-of-compliance.html'\n",
    "reqs = requests.get(url)\n",
    "soup = BeautifulSoup(reqs.text, 'html.parser')\n",
    "text=[]\n",
    "for link in soup.find_all('a'):\n",
    "    text.append(link)\n",
    "\n",
    "c_url=[]\n",
    "for i in text:\n",
    "    urls = re.findall('http[s]?://(?:[a-zA-Z]|[0-9]|[$-_@.&+]|[!*\\(\\),]|(?:%[0-9a-fA-F][0-9a-fA-F]))+', str(i))\n",
    "    c_url.append(urls)\n",
    "res = [ele for ele in c_url if ele != []]\n",
    "flatList = [ item for elem in res for item in elem]\n",
    "del flatList[0:4]\n",
    "flatList = flatList[0:11]"
   ]
  },
  {
   "cell_type": "code",
   "execution_count": 17,
   "metadata": {},
   "outputs": [],
   "source": [
    "import os\n",
    "import requests\n",
    "import pandas as pd  \n",
    "from urllib.parse import urljoin\n",
    "from bs4 import BeautifulSoup"
   ]
  },
  {
   "cell_type": "code",
   "execution_count": 21,
   "metadata": {},
   "outputs": [],
   "source": [
    "def get_lates_pdf_from_link(url_list,db_years_list, keyword_list, file_path):\n",
    "    \n",
    "    if not os.path.exists(file_path):\n",
    "        os.mkdir(folder_location)\n",
    "    C = db_years_list.copy()\n",
    "    for url,db_year,year_loc in zip(url_list,db_years_list,range(len(url_list))):\n",
    "        try:\n",
    "            response = requests.get(url, timeout=4)\n",
    "            soup= BeautifulSoup(response.text, \"html.parser\")\n",
    "            test = 1\n",
    "        except:\n",
    "            print(\"Not able to load following url:\\n\", url, \"\\n\\n\")\n",
    "            test = 0\n",
    "    \n",
    "        if test == 1:    \n",
    "            try:\n",
    "                df_chs = pd.DataFrame(columns = [\"year\", \"link\"])\n",
    "                for key in keyword_list:\n",
    "                    links = soup.select(\"a[href*='%s']\"%key)\n",
    "                    if len(links) > 0:\n",
    "                        for link in links:\n",
    "                            #Name the pdf files using the last portion of each link which are unique in this case\n",
    "                            last_links = link['href'].split('/')[-1]\n",
    "                            for split_char in ['_','(',')','-', '.']:\n",
    "                                last_links = ' '.join(last_links.split(split_char))\n",
    "                            year = [int(num) for num in last_links.split() if (num.isdigit()) & (len(num) == 4)]\n",
    "                            if len(year) > 0:\n",
    "                                df_chs.loc[len(df_chs)] = [year[0], link['href']]\n",
    "                if len(df_chs) > 0:\n",
    "                    df_chs.sort_values(\"year\", axis=0, ascending=False, inplace=True)\n",
    "#                     print(df_chs.head(10))\n",
    "                    pdf_year = int(df_chs.iloc[0,0])    \n",
    "#                     print(pdf_year)\n",
    "                    if int(db_year) < pdf_year:\n",
    "                        filename = str(df_chs.iloc[0,1])\n",
    "#                         print(filename)\n",
    "                        filename = filename.split(\"/\")[-1].split(\".pdf\")[0] + \".pdf\"\n",
    "#                         print(filename)\n",
    "                        link = str(df_chs.iloc[0,1])\n",
    "    #                     print(link)\n",
    "                        C[year_loc] = pdf_year\n",
    "                        \n",
    "                    else:\n",
    "                        filename = ''\n",
    "                else:\n",
    "                    filename = ''\n",
    "            except TypeError:\n",
    "                filename = ''\n",
    "\n",
    "            if len(filename) > 5:\n",
    "                with open(folder_location+filename, 'wb') as f:\n",
    "                    f.write(requests.get(urljoin(url,link)).content)\n",
    "                    f.close()\n",
    "    return C\n"
   ]
  },
  {
   "cell_type": "code",
   "execution_count": 19,
   "metadata": {},
   "outputs": [],
   "source": [
    "df1 = pd.read_csv(r\"D:\\Book1.csv\", encoding='unicode_escape')\n",
    "keywords = df1[\"keywords\"].dropna().tolist()\n",
    "#url_list = df[\"company_link\"].dropna().tolist()\n",
    "#url_list = flatList[0:11]\n",
    "#url_list = ['https://www.fraport.com/en/investors/corporate-governance.html']\n",
    "folder_location = r\"D:/New_folder/New folder/\""
   ]
  },
  {
   "cell_type": "code",
   "execution_count": 20,
   "metadata": {},
   "outputs": [
    {
     "name": "stdout",
     "output_type": "stream",
     "text": [
      "Not able to load following url:\n",
      " http://www.adidas-group.com/en/investors/corporate-governance/declaration-compliance/ \n",
      "\n",
      "\n",
      "2020\n",
      "2020\n",
      "2020\n",
      "2020\n",
      "2020\n",
      "2020\n",
      "2012\n"
     ]
    }
   ],
   "source": [
    "url_list = df['company_url'].tolist()\n",
    "db_year_list = df['latest_year_of_pdf'].tolist()\n",
    "years = get_lates_pdf_from_link(url_list,db_year_list, keywords, folder_location)\n",
    "df['latest_year_of_pdf'] = years"
   ]
  },
  {
   "cell_type": "code",
   "execution_count": 22,
   "metadata": {},
   "outputs": [],
   "source": [
    "for i in years:\n",
    "    df.replace(to_replace =\"latest_year_of_pdf\",\n",
    "                 value = i)"
   ]
  },
  {
   "cell_type": "code",
   "execution_count": 23,
   "metadata": {},
   "outputs": [
    {
     "name": "stdout",
     "output_type": "stream",
     "text": [
      "                                          company_url  latest_year_of_pdf\n",
      "0   http://www.adidas-group.com/en/investors/corpo...                2019\n",
      "1   https://www.allianz.com/en/about_us/management...                2020\n",
      "2   https://www.basf.com/global/en/investors/basf-...                2020\n",
      "3   http://www.bayer.com/en/Corporate-Governance.aspx                2019\n",
      "4   https://www.bmwgroup.com/en/company/company-po...                2019\n",
      "5   https://www.continental-corporation.com/en/com...                2019\n",
      "6   https://www.covestro.com/en/company/management...                2020\n",
      "7   https://www.daimler.com/company/corporate-gove...                2020\n",
      "8   https://ir.deliveryhero.com/websites/delivery/...                2020\n",
      "9              https://www.db.com/ir/en/documents.htm                2020\n",
      "10  http://deutsche-boerse.com/dbg/dispatch/en/kir...                2019\n"
     ]
    }
   ],
   "source": [
    "print(df)"
   ]
  },
  {
   "cell_type": "code",
   "execution_count": 14,
   "metadata": {},
   "outputs": [
    {
     "data": {
      "text/html": [
       "<div>\n",
       "<style scoped>\n",
       "    .dataframe tbody tr th:only-of-type {\n",
       "        vertical-align: middle;\n",
       "    }\n",
       "\n",
       "    .dataframe tbody tr th {\n",
       "        vertical-align: top;\n",
       "    }\n",
       "\n",
       "    .dataframe thead th {\n",
       "        text-align: right;\n",
       "    }\n",
       "</style>\n",
       "<table border=\"1\" class=\"dataframe\">\n",
       "  <thead>\n",
       "    <tr style=\"text-align: right;\">\n",
       "      <th></th>\n",
       "      <th>company_url</th>\n",
       "      <th>latest_year_of_pdf</th>\n",
       "    </tr>\n",
       "  </thead>\n",
       "  <tbody>\n",
       "    <tr>\n",
       "      <th>0</th>\n",
       "      <td>http://www.adidas-group.com/en/investors/corpo...</td>\n",
       "      <td>2019</td>\n",
       "    </tr>\n",
       "    <tr>\n",
       "      <th>1</th>\n",
       "      <td>https://www.allianz.com/en/about_us/management...</td>\n",
       "      <td>2019</td>\n",
       "    </tr>\n",
       "    <tr>\n",
       "      <th>2</th>\n",
       "      <td>https://www.basf.com/global/en/investors/basf-...</td>\n",
       "      <td>2019</td>\n",
       "    </tr>\n",
       "    <tr>\n",
       "      <th>3</th>\n",
       "      <td>http://www.bayer.com/en/Corporate-Governance.aspx</td>\n",
       "      <td>2019</td>\n",
       "    </tr>\n",
       "    <tr>\n",
       "      <th>4</th>\n",
       "      <td>https://www.bmwgroup.com/en/company/company-po...</td>\n",
       "      <td>2019</td>\n",
       "    </tr>\n",
       "    <tr>\n",
       "      <th>5</th>\n",
       "      <td>https://www.continental-corporation.com/en/com...</td>\n",
       "      <td>2019</td>\n",
       "    </tr>\n",
       "    <tr>\n",
       "      <th>6</th>\n",
       "      <td>https://www.covestro.com/en/company/management...</td>\n",
       "      <td>2019</td>\n",
       "    </tr>\n",
       "    <tr>\n",
       "      <th>7</th>\n",
       "      <td>https://www.daimler.com/company/corporate-gove...</td>\n",
       "      <td>2019</td>\n",
       "    </tr>\n",
       "    <tr>\n",
       "      <th>8</th>\n",
       "      <td>https://ir.deliveryhero.com/websites/delivery/...</td>\n",
       "      <td>2019</td>\n",
       "    </tr>\n",
       "    <tr>\n",
       "      <th>9</th>\n",
       "      <td>https://www.db.com/ir/en/documents.htm</td>\n",
       "      <td>2019</td>\n",
       "    </tr>\n",
       "    <tr>\n",
       "      <th>10</th>\n",
       "      <td>http://deutsche-boerse.com/dbg/dispatch/en/kir...</td>\n",
       "      <td>2019</td>\n",
       "    </tr>\n",
       "  </tbody>\n",
       "</table>\n",
       "</div>"
      ],
      "text/plain": [
       "                                          company_url  latest_year_of_pdf\n",
       "0   http://www.adidas-group.com/en/investors/corpo...                2019\n",
       "1   https://www.allianz.com/en/about_us/management...                2019\n",
       "2   https://www.basf.com/global/en/investors/basf-...                2019\n",
       "3   http://www.bayer.com/en/Corporate-Governance.aspx                2019\n",
       "4   https://www.bmwgroup.com/en/company/company-po...                2019\n",
       "5   https://www.continental-corporation.com/en/com...                2019\n",
       "6   https://www.covestro.com/en/company/management...                2019\n",
       "7   https://www.daimler.com/company/corporate-gove...                2019\n",
       "8   https://ir.deliveryhero.com/websites/delivery/...                2019\n",
       "9              https://www.db.com/ir/en/documents.htm                2019\n",
       "10  http://deutsche-boerse.com/dbg/dispatch/en/kir...                2019"
      ]
     },
     "execution_count": 14,
     "metadata": {},
     "output_type": "execute_result"
    }
   ],
   "source": [
    "pd.read_sql(\"select * from company_details\", conn)"
   ]
  },
  {
   "cell_type": "code",
   "execution_count": 37,
   "metadata": {},
   "outputs": [
    {
     "data": {
      "text/plain": [
       "[2019, 2019, 2019, 2019, 2019, 2019, 2019, 2019, 2019, 2019, 2019]"
      ]
     },
     "execution_count": 37,
     "metadata": {},
     "output_type": "execute_result"
    }
   ],
   "source": [
    "db_year_list"
   ]
  },
  {
   "cell_type": "code",
   "execution_count": 35,
   "metadata": {},
   "outputs": [
    {
     "data": {
      "text/plain": [
       "[2019, 2020, 2020, 2019, 2019, 2019, 2020, 2020, 2020, 2020, 2019]"
      ]
     },
     "execution_count": 35,
     "metadata": {},
     "output_type": "execute_result"
    }
   ],
   "source": [
    "years"
   ]
  },
  {
   "cell_type": "code",
   "execution_count": 36,
   "metadata": {},
   "outputs": [
    {
     "data": {
      "text/plain": [
       "0     2019\n",
       "1     2020\n",
       "2     2020\n",
       "3     2019\n",
       "4     2019\n",
       "5     2019\n",
       "6     2020\n",
       "7     2020\n",
       "8     2020\n",
       "9     2020\n",
       "10    2019\n",
       "Name: latest_year_of_pdf, dtype: int64"
      ]
     },
     "execution_count": 36,
     "metadata": {},
     "output_type": "execute_result"
    }
   ],
   "source": [
    "df['latest_year_of_pdf']"
   ]
  },
  {
   "cell_type": "code",
   "execution_count": null,
   "metadata": {},
   "outputs": [],
   "source": []
  },
  {
   "cell_type": "code",
   "execution_count": null,
   "metadata": {},
   "outputs": [],
   "source": [
    "df = pd.read_csv(r\"D:\\New_folder\\pdf\\keywords.csv\", encoding='unicode_escape')\n",
    "keywords = df[\"keywords\"].dropna().tolist()\n",
    "#url_list = df[\"company_link\"].dropna().tolist()\n",
    "#url_list = flatList[0:11]\n",
    "#url_list = ['https://www.fraport.com/en/investors/corporate-governance.html']\n",
    "folder_location = r\"D:/New_folder/New folder/\""
   ]
  },
  {
   "cell_type": "code",
   "execution_count": null,
   "metadata": {},
   "outputs": [],
   "source": [
    "get_lates_pdf_from_link(url_list, keywords, folder_location)"
   ]
  },
  {
   "cell_type": "code",
   "execution_count": 9,
   "metadata": {},
   "outputs": [
    {
     "data": {
      "text/plain": [
       "<sqlite3.Cursor at 0x1d120628810>"
      ]
     },
     "execution_count": 9,
     "metadata": {},
     "output_type": "execute_result"
    }
   ],
   "source": [
    "c.execute(\"INSERT INTO company_details VALUES('https://www.allianz.com/en/about-us/corporate-management/corporate-governance/declaration-of-conformity.html','declaration-of-conformity','2021-04-27')\")"
   ]
  },
  {
   "cell_type": "code",
   "execution_count": 10,
   "metadata": {},
   "outputs": [
    {
     "data": {
      "text/plain": [
       "<sqlite3.Cursor at 0x1d120628810>"
      ]
     },
     "execution_count": 10,
     "metadata": {},
     "output_type": "execute_result"
    }
   ],
   "source": [
    "c.execute(\"INSERT INTO company_details VALUES('https://www.basf.com/global/en/investors/basf-at-a-glance/corporate-governance/declarations.html','Declaration_of_Conformity','2021-04-27')\")\n",
    "c.execute(\"INSERT INTO company_details VALUES('https://www.bayer.com/en/corporate-governance/links-and-downloads','Bayer-corporate-governance','2021-04-27')\")\n",
    "c.execute(\"INSERT INTO company_details VALUES('https://www.bmwgroup.com/en/company/company-portrait.html','Declaration-of-Compliance','2021-04-27')\")\n",
    "c.execute(\"INSERT INTO company_details VALUES('https://www.continental.com/en/company/corporate-governance/principles-and-declarations/corporate-governance-principles-13402','Current-declaration-of-continental','2021-04-27')\")\n",
    "c.execute(\"INSERT INTO company_details VALUES('https://www.covestro.com/en/company/management/corporate-governance','Dcgk-delaration-of-conformity','2021-04-27')\")\n",
    "c.execute(\"INSERT INTO company_details VALUES('https://www.daimler.com/company/corporate-governance/declarations/','daimler-entsprechenserklaerung-en','2021-04-27')\")\n",
    "c.execute(\"INSERT INTO company_details VALUES('https://ir.deliveryhero.com/websites/delivery/English/4500/declaration-of-compliance.html','Declaration_of_Compliance','2021-04-27')\")\n",
    "c.execute(\"INSERT INTO company_details VALUES('https://www.db.com/ir/en/documents.htm','Declaration_of_Conformity','2021-04-27')\")\n",
    "c.execute(\"INSERT INTO company_details VALUES('https://www.deutsche-boerse.com/dbg-en/investor-relations/corporate-governance/declaration-of-conformity','entsprechungserklaerung','2021-04-27')\")"
   ]
  },
  {
   "cell_type": "code",
   "execution_count": 12,
   "metadata": {},
   "outputs": [
    {
     "data": {
      "text/html": [
       "<div>\n",
       "<style scoped>\n",
       "    .dataframe tbody tr th:only-of-type {\n",
       "        vertical-align: middle;\n",
       "    }\n",
       "\n",
       "    .dataframe tbody tr th {\n",
       "        vertical-align: top;\n",
       "    }\n",
       "\n",
       "    .dataframe thead th {\n",
       "        text-align: right;\n",
       "    }\n",
       "</style>\n",
       "<table border=\"1\" class=\"dataframe\">\n",
       "  <thead>\n",
       "    <tr style=\"text-align: right;\">\n",
       "      <th></th>\n",
       "      <th>company_url</th>\n",
       "      <th>keywords</th>\n",
       "      <th>date_of_download</th>\n",
       "    </tr>\n",
       "  </thead>\n",
       "  <tbody>\n",
       "    <tr>\n",
       "      <th>0</th>\n",
       "      <td>https://www.allianz.com/en/about-us/corporate-...</td>\n",
       "      <td>declaration-of-conformity</td>\n",
       "      <td>2021-04-27</td>\n",
       "    </tr>\n",
       "    <tr>\n",
       "      <th>1</th>\n",
       "      <td>https://www.basf.com/global/en/investors/basf-...</td>\n",
       "      <td>Declaration_of_Conformity</td>\n",
       "      <td>2021-04-27</td>\n",
       "    </tr>\n",
       "    <tr>\n",
       "      <th>2</th>\n",
       "      <td>https://www.bayer.com/en/corporate-governance/...</td>\n",
       "      <td>Bayer-corporate-governance</td>\n",
       "      <td>2021-04-27</td>\n",
       "    </tr>\n",
       "    <tr>\n",
       "      <th>3</th>\n",
       "      <td>https://www.bmwgroup.com/en/company/company-po...</td>\n",
       "      <td>Declaration-of-Compliance</td>\n",
       "      <td>2021-04-27</td>\n",
       "    </tr>\n",
       "    <tr>\n",
       "      <th>4</th>\n",
       "      <td>https://www.continental.com/en/company/corpora...</td>\n",
       "      <td>Current-declaration-of-continental</td>\n",
       "      <td>2021-04-27</td>\n",
       "    </tr>\n",
       "    <tr>\n",
       "      <th>5</th>\n",
       "      <td>https://www.covestro.com/en/company/management...</td>\n",
       "      <td>Dcgk-delaration-of-conformity</td>\n",
       "      <td>2021-04-27</td>\n",
       "    </tr>\n",
       "    <tr>\n",
       "      <th>6</th>\n",
       "      <td>https://www.daimler.com/company/corporate-gove...</td>\n",
       "      <td>daimler-entsprechenserklaerung-en</td>\n",
       "      <td>2021-04-27</td>\n",
       "    </tr>\n",
       "    <tr>\n",
       "      <th>7</th>\n",
       "      <td>https://ir.deliveryhero.com/websites/delivery/...</td>\n",
       "      <td>Declaration_of_Compliance</td>\n",
       "      <td>2021-04-27</td>\n",
       "    </tr>\n",
       "    <tr>\n",
       "      <th>8</th>\n",
       "      <td>https://www.db.com/ir/en/documents.htm</td>\n",
       "      <td>Declaration_of_Conformity</td>\n",
       "      <td>2021-04-27</td>\n",
       "    </tr>\n",
       "    <tr>\n",
       "      <th>9</th>\n",
       "      <td>https://www.deutsche-boerse.com/dbg-en/investo...</td>\n",
       "      <td>entsprechungserklaerung</td>\n",
       "      <td>2021-04-27</td>\n",
       "    </tr>\n",
       "  </tbody>\n",
       "</table>\n",
       "</div>"
      ],
      "text/plain": [
       "                                         company_url  \\\n",
       "0  https://www.allianz.com/en/about-us/corporate-...   \n",
       "1  https://www.basf.com/global/en/investors/basf-...   \n",
       "2  https://www.bayer.com/en/corporate-governance/...   \n",
       "3  https://www.bmwgroup.com/en/company/company-po...   \n",
       "4  https://www.continental.com/en/company/corpora...   \n",
       "5  https://www.covestro.com/en/company/management...   \n",
       "6  https://www.daimler.com/company/corporate-gove...   \n",
       "7  https://ir.deliveryhero.com/websites/delivery/...   \n",
       "8             https://www.db.com/ir/en/documents.htm   \n",
       "9  https://www.deutsche-boerse.com/dbg-en/investo...   \n",
       "\n",
       "                             keywords date_of_download  \n",
       "0           declaration-of-conformity       2021-04-27  \n",
       "1           Declaration_of_Conformity       2021-04-27  \n",
       "2          Bayer-corporate-governance       2021-04-27  \n",
       "3           Declaration-of-Compliance       2021-04-27  \n",
       "4  Current-declaration-of-continental       2021-04-27  \n",
       "5       Dcgk-delaration-of-conformity       2021-04-27  \n",
       "6   daimler-entsprechenserklaerung-en       2021-04-27  \n",
       "7           Declaration_of_Compliance       2021-04-27  \n",
       "8           Declaration_of_Conformity       2021-04-27  \n",
       "9             entsprechungserklaerung       2021-04-27  "
      ]
     },
     "execution_count": 12,
     "metadata": {},
     "output_type": "execute_result"
    }
   ],
   "source": [
    "import pandas as pd\n",
    "pd.read_sql(\"select * from company_details\", conn)"
   ]
  },
  {
   "cell_type": "code",
   "execution_count": 9,
   "metadata": {},
   "outputs": [],
   "source": [
    "df = pd.read_sql(\"select * from company_details\", conn)"
   ]
  },
  {
   "cell_type": "code",
   "execution_count": 5,
   "metadata": {},
   "outputs": [],
   "source": [
    "import pandas as pd"
   ]
  },
  {
   "cell_type": "code",
   "execution_count": 10,
   "metadata": {},
   "outputs": [
    {
     "ename": "ArgumentError",
     "evalue": "Could not parse rfc1738 URL from string 'new_tab'",
     "output_type": "error",
     "traceback": [
      "\u001b[1;31m---------------------------------------------------------------------------\u001b[0m",
      "\u001b[1;31mArgumentError\u001b[0m                             Traceback (most recent call last)",
      "\u001b[1;32m<ipython-input-10-36a54d633044>\u001b[0m in \u001b[0;36m<module>\u001b[1;34m()\u001b[0m\n\u001b[1;32m----> 1\u001b[1;33m \u001b[0mdf\u001b[0m\u001b[1;33m.\u001b[0m\u001b[0mto_sql\u001b[0m\u001b[1;33m(\u001b[0m\u001b[0mconn\u001b[0m\u001b[1;33m,\u001b[0m \u001b[1;34m'new_tab'\u001b[0m\u001b[1;33m)\u001b[0m\u001b[1;33m\u001b[0m\u001b[0m\n\u001b[0m",
      "\u001b[1;32m~\\Anaconda3\\lib\\site-packages\\pandas\\core\\generic.py\u001b[0m in \u001b[0;36mto_sql\u001b[1;34m(self, name, con, schema, if_exists, index, index_label, chunksize, dtype)\u001b[0m\n\u001b[0;32m   2125\u001b[0m         sql.to_sql(self, name, con, schema=schema, if_exists=if_exists,\n\u001b[0;32m   2126\u001b[0m                    \u001b[0mindex\u001b[0m\u001b[1;33m=\u001b[0m\u001b[0mindex\u001b[0m\u001b[1;33m,\u001b[0m \u001b[0mindex_label\u001b[0m\u001b[1;33m=\u001b[0m\u001b[0mindex_label\u001b[0m\u001b[1;33m,\u001b[0m \u001b[0mchunksize\u001b[0m\u001b[1;33m=\u001b[0m\u001b[0mchunksize\u001b[0m\u001b[1;33m,\u001b[0m\u001b[1;33m\u001b[0m\u001b[0m\n\u001b[1;32m-> 2127\u001b[1;33m                    dtype=dtype)\n\u001b[0m\u001b[0;32m   2128\u001b[0m \u001b[1;33m\u001b[0m\u001b[0m\n\u001b[0;32m   2129\u001b[0m     def to_pickle(self, path, compression='infer',\n",
      "\u001b[1;32m~\\Anaconda3\\lib\\site-packages\\pandas\\io\\sql.py\u001b[0m in \u001b[0;36mto_sql\u001b[1;34m(frame, name, con, schema, if_exists, index, index_label, chunksize, dtype)\u001b[0m\n\u001b[0;32m    438\u001b[0m         \u001b[1;32mraise\u001b[0m \u001b[0mValueError\u001b[0m\u001b[1;33m(\u001b[0m\u001b[1;34m\"'{0}' is not valid for if_exists\"\u001b[0m\u001b[1;33m.\u001b[0m\u001b[0mformat\u001b[0m\u001b[1;33m(\u001b[0m\u001b[0mif_exists\u001b[0m\u001b[1;33m)\u001b[0m\u001b[1;33m)\u001b[0m\u001b[1;33m\u001b[0m\u001b[0m\n\u001b[0;32m    439\u001b[0m \u001b[1;33m\u001b[0m\u001b[0m\n\u001b[1;32m--> 440\u001b[1;33m     \u001b[0mpandas_sql\u001b[0m \u001b[1;33m=\u001b[0m \u001b[0mpandasSQL_builder\u001b[0m\u001b[1;33m(\u001b[0m\u001b[0mcon\u001b[0m\u001b[1;33m,\u001b[0m \u001b[0mschema\u001b[0m\u001b[1;33m=\u001b[0m\u001b[0mschema\u001b[0m\u001b[1;33m)\u001b[0m\u001b[1;33m\u001b[0m\u001b[0m\n\u001b[0m\u001b[0;32m    441\u001b[0m \u001b[1;33m\u001b[0m\u001b[0m\n\u001b[0;32m    442\u001b[0m     \u001b[1;32mif\u001b[0m \u001b[0misinstance\u001b[0m\u001b[1;33m(\u001b[0m\u001b[0mframe\u001b[0m\u001b[1;33m,\u001b[0m \u001b[0mSeries\u001b[0m\u001b[1;33m)\u001b[0m\u001b[1;33m:\u001b[0m\u001b[1;33m\u001b[0m\u001b[0m\n",
      "\u001b[1;32m~\\Anaconda3\\lib\\site-packages\\pandas\\io\\sql.py\u001b[0m in \u001b[0;36mpandasSQL_builder\u001b[1;34m(con, schema, meta, is_cursor)\u001b[0m\n\u001b[0;32m    504\u001b[0m     \u001b[1;31m# When support for DBAPI connections is removed,\u001b[0m\u001b[1;33m\u001b[0m\u001b[1;33m\u001b[0m\u001b[0m\n\u001b[0;32m    505\u001b[0m     \u001b[1;31m# is_cursor should not be necessary.\u001b[0m\u001b[1;33m\u001b[0m\u001b[1;33m\u001b[0m\u001b[0m\n\u001b[1;32m--> 506\u001b[1;33m     \u001b[0mcon\u001b[0m \u001b[1;33m=\u001b[0m \u001b[0m_engine_builder\u001b[0m\u001b[1;33m(\u001b[0m\u001b[0mcon\u001b[0m\u001b[1;33m)\u001b[0m\u001b[1;33m\u001b[0m\u001b[0m\n\u001b[0m\u001b[0;32m    507\u001b[0m     \u001b[1;32mif\u001b[0m \u001b[0m_is_sqlalchemy_connectable\u001b[0m\u001b[1;33m(\u001b[0m\u001b[0mcon\u001b[0m\u001b[1;33m)\u001b[0m\u001b[1;33m:\u001b[0m\u001b[1;33m\u001b[0m\u001b[0m\n\u001b[0;32m    508\u001b[0m         \u001b[1;32mreturn\u001b[0m \u001b[0mSQLDatabase\u001b[0m\u001b[1;33m(\u001b[0m\u001b[0mcon\u001b[0m\u001b[1;33m,\u001b[0m \u001b[0mschema\u001b[0m\u001b[1;33m=\u001b[0m\u001b[0mschema\u001b[0m\u001b[1;33m,\u001b[0m \u001b[0mmeta\u001b[0m\u001b[1;33m=\u001b[0m\u001b[0mmeta\u001b[0m\u001b[1;33m)\u001b[0m\u001b[1;33m\u001b[0m\u001b[0m\n",
      "\u001b[1;32m~\\Anaconda3\\lib\\site-packages\\pandas\\io\\sql.py\u001b[0m in \u001b[0;36m_engine_builder\u001b[1;34m(con)\u001b[0m\n\u001b[0;32m    490\u001b[0m             \u001b[0m_SQLALCHEMY_INSTALLED\u001b[0m \u001b[1;33m=\u001b[0m \u001b[1;32mFalse\u001b[0m\u001b[1;33m\u001b[0m\u001b[0m\n\u001b[0;32m    491\u001b[0m         \u001b[1;32melse\u001b[0m\u001b[1;33m:\u001b[0m\u001b[1;33m\u001b[0m\u001b[0m\n\u001b[1;32m--> 492\u001b[1;33m             \u001b[0mcon\u001b[0m \u001b[1;33m=\u001b[0m \u001b[0msqlalchemy\u001b[0m\u001b[1;33m.\u001b[0m\u001b[0mcreate_engine\u001b[0m\u001b[1;33m(\u001b[0m\u001b[0mcon\u001b[0m\u001b[1;33m)\u001b[0m\u001b[1;33m\u001b[0m\u001b[0m\n\u001b[0m\u001b[0;32m    493\u001b[0m             \u001b[1;32mreturn\u001b[0m \u001b[0mcon\u001b[0m\u001b[1;33m\u001b[0m\u001b[0m\n\u001b[0;32m    494\u001b[0m \u001b[1;33m\u001b[0m\u001b[0m\n",
      "\u001b[1;32m~\\Anaconda3\\lib\\site-packages\\sqlalchemy\\engine\\__init__.py\u001b[0m in \u001b[0;36mcreate_engine\u001b[1;34m(*args, **kwargs)\u001b[0m\n\u001b[0;32m    422\u001b[0m     \u001b[0mstrategy\u001b[0m \u001b[1;33m=\u001b[0m \u001b[0mkwargs\u001b[0m\u001b[1;33m.\u001b[0m\u001b[0mpop\u001b[0m\u001b[1;33m(\u001b[0m\u001b[1;34m'strategy'\u001b[0m\u001b[1;33m,\u001b[0m \u001b[0mdefault_strategy\u001b[0m\u001b[1;33m)\u001b[0m\u001b[1;33m\u001b[0m\u001b[0m\n\u001b[0;32m    423\u001b[0m     \u001b[0mstrategy\u001b[0m \u001b[1;33m=\u001b[0m \u001b[0mstrategies\u001b[0m\u001b[1;33m.\u001b[0m\u001b[0mstrategies\u001b[0m\u001b[1;33m[\u001b[0m\u001b[0mstrategy\u001b[0m\u001b[1;33m]\u001b[0m\u001b[1;33m\u001b[0m\u001b[0m\n\u001b[1;32m--> 424\u001b[1;33m     \u001b[1;32mreturn\u001b[0m \u001b[0mstrategy\u001b[0m\u001b[1;33m.\u001b[0m\u001b[0mcreate\u001b[0m\u001b[1;33m(\u001b[0m\u001b[1;33m*\u001b[0m\u001b[0margs\u001b[0m\u001b[1;33m,\u001b[0m \u001b[1;33m**\u001b[0m\u001b[0mkwargs\u001b[0m\u001b[1;33m)\u001b[0m\u001b[1;33m\u001b[0m\u001b[0m\n\u001b[0m\u001b[0;32m    425\u001b[0m \u001b[1;33m\u001b[0m\u001b[0m\n\u001b[0;32m    426\u001b[0m \u001b[1;33m\u001b[0m\u001b[0m\n",
      "\u001b[1;32m~\\Anaconda3\\lib\\site-packages\\sqlalchemy\\engine\\strategies.py\u001b[0m in \u001b[0;36mcreate\u001b[1;34m(self, name_or_url, **kwargs)\u001b[0m\n\u001b[0;32m     48\u001b[0m     \u001b[1;32mdef\u001b[0m \u001b[0mcreate\u001b[0m\u001b[1;33m(\u001b[0m\u001b[0mself\u001b[0m\u001b[1;33m,\u001b[0m \u001b[0mname_or_url\u001b[0m\u001b[1;33m,\u001b[0m \u001b[1;33m**\u001b[0m\u001b[0mkwargs\u001b[0m\u001b[1;33m)\u001b[0m\u001b[1;33m:\u001b[0m\u001b[1;33m\u001b[0m\u001b[0m\n\u001b[0;32m     49\u001b[0m         \u001b[1;31m# create url.URL object\u001b[0m\u001b[1;33m\u001b[0m\u001b[1;33m\u001b[0m\u001b[0m\n\u001b[1;32m---> 50\u001b[1;33m         \u001b[0mu\u001b[0m \u001b[1;33m=\u001b[0m \u001b[0murl\u001b[0m\u001b[1;33m.\u001b[0m\u001b[0mmake_url\u001b[0m\u001b[1;33m(\u001b[0m\u001b[0mname_or_url\u001b[0m\u001b[1;33m)\u001b[0m\u001b[1;33m\u001b[0m\u001b[0m\n\u001b[0m\u001b[0;32m     51\u001b[0m \u001b[1;33m\u001b[0m\u001b[0m\n\u001b[0;32m     52\u001b[0m         \u001b[0mplugins\u001b[0m \u001b[1;33m=\u001b[0m \u001b[0mu\u001b[0m\u001b[1;33m.\u001b[0m\u001b[0m_instantiate_plugins\u001b[0m\u001b[1;33m(\u001b[0m\u001b[0mkwargs\u001b[0m\u001b[1;33m)\u001b[0m\u001b[1;33m\u001b[0m\u001b[0m\n",
      "\u001b[1;32m~\\Anaconda3\\lib\\site-packages\\sqlalchemy\\engine\\url.py\u001b[0m in \u001b[0;36mmake_url\u001b[1;34m(name_or_url)\u001b[0m\n\u001b[0;32m    209\u001b[0m \u001b[1;33m\u001b[0m\u001b[0m\n\u001b[0;32m    210\u001b[0m     \u001b[1;32mif\u001b[0m \u001b[0misinstance\u001b[0m\u001b[1;33m(\u001b[0m\u001b[0mname_or_url\u001b[0m\u001b[1;33m,\u001b[0m \u001b[0mutil\u001b[0m\u001b[1;33m.\u001b[0m\u001b[0mstring_types\u001b[0m\u001b[1;33m)\u001b[0m\u001b[1;33m:\u001b[0m\u001b[1;33m\u001b[0m\u001b[0m\n\u001b[1;32m--> 211\u001b[1;33m         \u001b[1;32mreturn\u001b[0m \u001b[0m_parse_rfc1738_args\u001b[0m\u001b[1;33m(\u001b[0m\u001b[0mname_or_url\u001b[0m\u001b[1;33m)\u001b[0m\u001b[1;33m\u001b[0m\u001b[0m\n\u001b[0m\u001b[0;32m    212\u001b[0m     \u001b[1;32melse\u001b[0m\u001b[1;33m:\u001b[0m\u001b[1;33m\u001b[0m\u001b[0m\n\u001b[0;32m    213\u001b[0m         \u001b[1;32mreturn\u001b[0m \u001b[0mname_or_url\u001b[0m\u001b[1;33m\u001b[0m\u001b[0m\n",
      "\u001b[1;32m~\\Anaconda3\\lib\\site-packages\\sqlalchemy\\engine\\url.py\u001b[0m in \u001b[0;36m_parse_rfc1738_args\u001b[1;34m(name)\u001b[0m\n\u001b[0;32m    268\u001b[0m     \u001b[1;32melse\u001b[0m\u001b[1;33m:\u001b[0m\u001b[1;33m\u001b[0m\u001b[0m\n\u001b[0;32m    269\u001b[0m         raise exc.ArgumentError(\n\u001b[1;32m--> 270\u001b[1;33m             \"Could not parse rfc1738 URL from string '%s'\" % name)\n\u001b[0m\u001b[0;32m    271\u001b[0m \u001b[1;33m\u001b[0m\u001b[0m\n\u001b[0;32m    272\u001b[0m \u001b[1;33m\u001b[0m\u001b[0m\n",
      "\u001b[1;31mArgumentError\u001b[0m: Could not parse rfc1738 URL from string 'new_tab'"
     ]
    }
   ],
   "source": [
    "df.to_sql(conn, 'new_tab')\n"
   ]
  },
  {
   "cell_type": "code",
   "execution_count": 14,
   "metadata": {},
   "outputs": [],
   "source": [
    "df.to_sql('company_details', conn, if_exists='replace', index = False)"
   ]
  },
  {
   "cell_type": "code",
   "execution_count": 18,
   "metadata": {},
   "outputs": [
    {
     "data": {
      "text/html": [
       "<div>\n",
       "<style scoped>\n",
       "    .dataframe tbody tr th:only-of-type {\n",
       "        vertical-align: middle;\n",
       "    }\n",
       "\n",
       "    .dataframe tbody tr th {\n",
       "        vertical-align: top;\n",
       "    }\n",
       "\n",
       "    .dataframe thead th {\n",
       "        text-align: right;\n",
       "    }\n",
       "</style>\n",
       "<table border=\"1\" class=\"dataframe\">\n",
       "  <thead>\n",
       "    <tr style=\"text-align: right;\">\n",
       "      <th></th>\n",
       "      <th>company_url</th>\n",
       "      <th>keywords</th>\n",
       "      <th>date_of_download</th>\n",
       "      <th>updated_date</th>\n",
       "    </tr>\n",
       "  </thead>\n",
       "  <tbody>\n",
       "    <tr>\n",
       "      <th>0</th>\n",
       "      <td>https://www.allianz.com/en/about-us/corporate-...</td>\n",
       "      <td>declaration-of-conformity</td>\n",
       "      <td>2021-04-22</td>\n",
       "      <td>2021-04-23</td>\n",
       "    </tr>\n",
       "  </tbody>\n",
       "</table>\n",
       "</div>"
      ],
      "text/plain": [
       "                                         company_url  \\\n",
       "0  https://www.allianz.com/en/about-us/corporate-...   \n",
       "\n",
       "                    keywords date_of_download updated_date  \n",
       "0  declaration-of-conformity       2021-04-22   2021-04-23  "
      ]
     },
     "execution_count": 18,
     "metadata": {},
     "output_type": "execute_result"
    }
   ],
   "source": [
    "pd.read_sql(\"select * from company_details\", conn)"
   ]
  },
  {
   "cell_type": "code",
   "execution_count": null,
   "metadata": {},
   "outputs": [],
   "source": []
  }
 ],
 "metadata": {
  "kernelspec": {
   "display_name": "Python 3",
   "language": "python",
   "name": "python3"
  },
  "language_info": {
   "codemirror_mode": {
    "name": "ipython",
    "version": 3
   },
   "file_extension": ".py",
   "mimetype": "text/x-python",
   "name": "python",
   "nbconvert_exporter": "python",
   "pygments_lexer": "ipython3",
   "version": "3.6.13"
  }
 },
 "nbformat": 4,
 "nbformat_minor": 2
}
